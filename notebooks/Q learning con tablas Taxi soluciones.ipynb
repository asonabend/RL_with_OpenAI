{
 "cells": [
  {
   "cell_type": "markdown",
   "metadata": {},
   "source": [
    "# Reinforcement Learning: Q-learning en tablas.\n",
    "\n",
    "Estaremos usando el Gym environment llamado Taxi-V2. Este consiste de un juego muy simple en donde se probaron muchos algoritmos de Reinforcement Learning jerárquico. Se tienen 4 ubicaciones en el ambiente y la meta es recoger al pasajero en una ubicación y llevarlo a otra. El agente puede llevar a cabo 6 acciones: moverse al sur, nort, oeste y este, recoger y dejar al pasajero. Este cuaderno está basado en las siguintes dos fuentes: [Rubik's cube](https://rubikscode.net/2019/06/24/introduction-to-q-learning-with-python-and-open-ai-gym/) y [OpenAI Taxi-V2](https://gym.openai.com/envs/Taxi-v2/)."
   ]
  },
  {
   "cell_type": "code",
   "execution_count": null,
   "metadata": {},
   "outputs": [],
   "source": [
    "#!pip install gym[atari]"
   ]
  },
  {
   "cell_type": "code",
   "execution_count": 1,
   "metadata": {},
   "outputs": [],
   "source": [
    "import numpy as np\n",
    "import random\n",
    "from IPython.display import clear_output\n",
    "import gym\n",
    "import time"
   ]
  },
  {
   "cell_type": "markdown",
   "metadata": {},
   "source": [
    "Veamos como se ven unas iteraciones del juego:"
   ]
  },
  {
   "cell_type": "code",
   "execution_count": 2,
   "metadata": {
    "scrolled": true
   },
   "outputs": [
    {
     "ename": "KeyboardInterrupt",
     "evalue": "",
     "output_type": "error",
     "traceback": [
      "\u001b[0;31m---------------------------------------------------------------------------\u001b[0m",
      "\u001b[0;31mKeyboardInterrupt\u001b[0m                         Traceback (most recent call last)",
      "\u001b[0;32m<ipython-input-2-5d5281ee5394>\u001b[0m in \u001b[0;36m<module>\u001b[0;34m\u001b[0m\n\u001b[1;32m      6\u001b[0m     \u001b[0mclear_output\u001b[0m\u001b[0;34m(\u001b[0m\u001b[0mwait\u001b[0m\u001b[0;34m=\u001b[0m\u001b[0;32mTrue\u001b[0m\u001b[0;34m)\u001b[0m\u001b[0;34m\u001b[0m\u001b[0;34m\u001b[0m\u001b[0m\n\u001b[1;32m      7\u001b[0m     \u001b[0menviroment\u001b[0m\u001b[0;34m.\u001b[0m\u001b[0mstep\u001b[0m\u001b[0;34m(\u001b[0m\u001b[0maction\u001b[0m\u001b[0;34m)\u001b[0m\u001b[0;34m\u001b[0m\u001b[0;34m\u001b[0m\u001b[0m\n\u001b[0;32m----> 8\u001b[0;31m     \u001b[0mtime\u001b[0m\u001b[0;34m.\u001b[0m\u001b[0msleep\u001b[0m\u001b[0;34m(\u001b[0m\u001b[0;36m.5\u001b[0m\u001b[0;34m)\u001b[0m\u001b[0;34m\u001b[0m\u001b[0;34m\u001b[0m\u001b[0m\n\u001b[0m\u001b[1;32m      9\u001b[0m     \u001b[0menviroment\u001b[0m\u001b[0;34m.\u001b[0m\u001b[0mrender\u001b[0m\u001b[0;34m(\u001b[0m\u001b[0;34m)\u001b[0m\u001b[0;34m\u001b[0m\u001b[0;34m\u001b[0m\u001b[0m\n\u001b[1;32m     10\u001b[0m \u001b[0;34m\u001b[0m\u001b[0m\n",
      "\u001b[0;31mKeyboardInterrupt\u001b[0m: "
     ]
    }
   ],
   "source": [
    "enviroment = gym.make(\"Taxi-v2\").env\n",
    "\n",
    "enviroment.render()\n",
    "for i in range(100):\n",
    "    action = enviroment.action_space.sample()\n",
    "    clear_output(wait=True)\n",
    "    enviroment.step(action)\n",
    "    time.sleep(.5)\n",
    "    enviroment.render()\n",
    "\n",
    "print('Número de Estados: {}'.format(enviroment.observation_space.n))\n",
    "print('Número de Acciones: {}'.format(enviroment.action_space.n))"
   ]
  },
  {
   "cell_type": "code",
   "execution_count": 3,
   "metadata": {},
   "outputs": [],
   "source": [
    "# Tamaño de peso para actualizar la tabla de valores Q\n",
    "alpha = 0.1\n",
    "# Tasa de descuento temporal\n",
    "gamma = 0.6\n",
    "# Probabilidad de exploración\n",
    "epsilon = 0.1"
   ]
  },
  {
   "cell_type": "markdown",
   "metadata": {},
   "source": [
    "Genera una matriz (o numpy array de 2D) para guardar los valores \"Q\"\n",
    "\n",
    "¿Cuáles son las dos dimensiones que debe de tener?"
   ]
  },
  {
   "cell_type": "code",
   "execution_count": 4,
   "metadata": {},
   "outputs": [],
   "source": [
    "tabla_q = np.zeros([enviroment.observation_space.n, enviroment.action_space.n])"
   ]
  },
  {
   "cell_type": "markdown",
   "metadata": {},
   "source": [
    "Define una función que actualice el estimado del valor \"q\".\n",
    "\n",
    "¿Qué insumos debe tener?"
   ]
  },
  {
   "cell_type": "code",
   "execution_count": 5,
   "metadata": {},
   "outputs": [],
   "source": [
    "def actualiza_q(alpha,q_actual,recompensa,gamma,max_V):\n",
    "    nuevo_q = (1 - alpha) * q_actual + alpha * (recompensa + gamma * max_V)\n",
    "    return(nuevo_q)"
   ]
  },
  {
   "cell_type": "markdown",
   "metadata": {},
   "source": [
    "Define la función de exploración vs. aprovechamiento, está debe regresar una acción. \n",
    "\n",
    "Ya sea aleatoria para explorar o la mejor posible para \"aprovechar\" "
   ]
  },
  {
   "cell_type": "code",
   "execution_count": 6,
   "metadata": {},
   "outputs": [],
   "source": [
    "def genera_accion(epsilon,tabla_q,estado):\n",
    "    # Toma acción aprendida o genera una aleatoria para explorar con probabilidad epsilon\n",
    "    if random.uniform(0, 1) < epsilon:\n",
    "        accion = enviroment.action_space.sample()\n",
    "    else:\n",
    "        accion = np.argmax(tabla_q[estado])\n",
    "    return(accion)"
   ]
  },
  {
   "cell_type": "code",
   "execution_count": 7,
   "metadata": {},
   "outputs": [
    {
     "name": "stdout",
     "output_type": "stream",
     "text": [
      "Episodio: 100000\n",
      "+---------+\n",
      "|R: | : :G|\n",
      "| : : : : |\n",
      "| : : : : |\n",
      "| | : | : |\n",
      "|\u001b[35m\u001b[34;1m\u001b[43mY\u001b[0m\u001b[0m\u001b[0m| : |B: |\n",
      "+---------+\n",
      "  (Dropoff)\n",
      "**********************************\n",
      "Entrenamiento finalizado!\n",
      "\n",
      "**********************************\n"
     ]
    }
   ],
   "source": [
    "No_episodios = 100000\n",
    "\n",
    "for episodio in range(0, No_episodios):\n",
    "    # Reinicia el ambiente\n",
    "    estado = enviroment.reset()\n",
    "\n",
    "    # Inicializa las variables\n",
    "    recompensa = 0\n",
    "    termina = False\n",
    "    \n",
    "    while not termina:\n",
    "        # Decide acción a tomar\n",
    "        accion = genera_accion(epsilon,tabla_q,estado)\n",
    "        # Implementa la acción    \n",
    "        sig_estado, recompensa, termina, info = enviroment.step(accion) \n",
    "        \n",
    "        # Actualiza valor q\n",
    "        q_actual = tabla_q[estado, accion]\n",
    "        max_V = np.max(tabla_q[sig_estado])\n",
    "        nuevo_q = actualiza_q(alpha,q_actual,recompensa,gamma,max_V)\n",
    "        \n",
    "        # Actualiza tabla de valores q\n",
    "        tabla_q[estado, accion] = nuevo_q\n",
    "        estado = sig_estado\n",
    "    # Imprime progreso\n",
    "    if (episodio + 1) % 100 == 0:\n",
    "        clear_output(wait=True)\n",
    "        print(\"Episodio: {}\".format(episodio + 1))\n",
    "        enviroment.render()\n",
    "\n",
    "print(\"**********************************\")\n",
    "print(\"Entrenamiento finalizado!\\n\")\n",
    "print(\"**********************************\")"
   ]
  },
  {
   "cell_type": "code",
   "execution_count": 8,
   "metadata": {},
   "outputs": [
    {
     "name": "stdout",
     "output_type": "stream",
     "text": [
      "**********************************\n",
      "Resultados\n",
      "**********************************\n",
      "Epochs por episodio: 12.14\n",
      "Penalidades por episodio: 0.0\n"
     ]
    }
   ],
   "source": [
    "total_epochs = 0\n",
    "total_penalidades = 0\n",
    "No_episodios = 100\n",
    "for _ in range(No_episodios):\n",
    "    estado = enviroment.reset()\n",
    "    epochs = 0\n",
    "    penalidades = 0\n",
    "    recompensa = 0\n",
    "    \n",
    "    termina = False\n",
    "    \n",
    "    while not termina:\n",
    "        accion = np.argmax(tabla_q[estado])\n",
    "        estado, recompensa, termina, info = enviroment.step(accion)\n",
    "\n",
    "        if recompensa == -10:\n",
    "            penalidades += 1\n",
    "\n",
    "        epochs += 1\n",
    "\n",
    "    total_penalidades += penalidades\n",
    "    total_epochs += epochs\n",
    "\n",
    "print(\"**********************************\")\n",
    "print(\"Resultados\")\n",
    "print(\"**********************************\")\n",
    "print(\"Epochs por episodio: {}\".format(total_epochs / No_episodios))\n",
    "print(\"Penalidades por episodio: {}\".format(total_penalidades / No_episodios))"
   ]
  },
  {
   "cell_type": "code",
   "execution_count": null,
   "metadata": {},
   "outputs": [],
   "source": []
  }
 ],
 "metadata": {
  "kernelspec": {
   "display_name": "Python 3",
   "language": "python",
   "name": "python3"
  },
  "language_info": {
   "codemirror_mode": {
    "name": "ipython",
    "version": 3
   },
   "file_extension": ".py",
   "mimetype": "text/x-python",
   "name": "python",
   "nbconvert_exporter": "python",
   "pygments_lexer": "ipython3",
   "version": "3.6.8"
  }
 },
 "nbformat": 4,
 "nbformat_minor": 2
}
