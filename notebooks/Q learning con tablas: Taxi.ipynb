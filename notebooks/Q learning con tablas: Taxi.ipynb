{
 "cells": [
  {
   "cell_type": "markdown",
   "metadata": {},
   "source": [
    "# Reinforcement Learning: Q-learning en tablas.\n",
    "\n",
    "Estaremos usando el Gym environment llamado Taxi-V2. Este consiste de un juego muy simple en donde se probaron muchos algoritmos de Reinforcement Learning jerárquico. Se tienen 4 ubicaciones en el ambiente y la meta es recoger al pasajero en una ubicación y llevarlo a otra. El agente puede llevar a cabo 6 acciones: moverse al sur, nort, oeste y este, recoger y dejar al pasajero. Este cuaderno está basado en las siguintes dos fuentes: [Rubik's cube](https://rubikscode.net/2019/06/24/introduction-to-q-learning-with-python-and-open-ai-gym/) y [OpenAI Taxi-V2](https://gym.openai.com/envs/Taxi-v2/)."
   ]
  },
  {
   "cell_type": "code",
   "execution_count": null,
   "metadata": {},
   "outputs": [],
   "source": [
    "#!pip install gym[atari]"
   ]
  },
  {
   "cell_type": "code",
   "execution_count": null,
   "metadata": {},
   "outputs": [],
   "source": [
    "import numpy as np\n",
    "import random\n",
    "from IPython.display import clear_output\n",
    "import gym\n",
    "import time"
   ]
  },
  {
   "cell_type": "markdown",
   "metadata": {},
   "source": [
    "Veamos como se ven unas iteraciones del juego:"
   ]
  },
  {
   "cell_type": "code",
   "execution_count": null,
   "metadata": {
    "scrolled": true
   },
   "outputs": [],
   "source": [
    "enviroment = gym.make(\"Taxi-v2\").env\n",
    "\n",
    "enviroment.render()\n",
    "for i in range(100):\n",
    "    action = enviroment.action_space.sample()\n",
    "    clear_output(wait=True)\n",
    "    enviroment.step(action)\n",
    "    time.sleep(.5)\n",
    "    enviroment.render()\n",
    "\n",
    "print('Número de Estados: {}'.format(enviroment.observation_space.n))\n",
    "print('Número de Acciones: {}'.format(enviroment.action_space.n))"
   ]
  },
  {
   "cell_type": "code",
   "execution_count": 1,
   "metadata": {},
   "outputs": [],
   "source": [
    "# Tamaño de peso para actualizar la tabla de valores Q\n",
    "alpha = \n",
    "# Tasa de descuento temporal\n",
    "gamma = \n",
    "# Probabilidad de exploración\n",
    "epsilon = "
   ]
  },
  {
   "cell_type": "markdown",
   "metadata": {},
   "source": [
    "Genera una matriz (o numpy array de 2D) para guardar los valores \"Q\"\n",
    "\n",
    "¿Cuáles son las dos dimensiones que debe de tener?"
   ]
  },
  {
   "cell_type": "code",
   "execution_count": null,
   "metadata": {},
   "outputs": [],
   "source": [
    "tabla_q = "
   ]
  },
  {
   "cell_type": "markdown",
   "metadata": {},
   "source": [
    "Define una función que actualice el estimado del valor \"q\".\n",
    "\n",
    "¿Qué insumos debe tener?"
   ]
  },
  {
   "cell_type": "code",
   "execution_count": null,
   "metadata": {},
   "outputs": [],
   "source": [
    "def actualiza_q():\n"
   ]
  },
  {
   "cell_type": "markdown",
   "metadata": {},
   "source": [
    "Define la función de exploración vs. aprovechamiento, está debe regresar una acción. \n",
    "\n",
    "Ya sea aleatoria para explorar o la mejor posible para \"aprovechar\" "
   ]
  },
  {
   "cell_type": "code",
   "execution_count": null,
   "metadata": {},
   "outputs": [],
   "source": [
    "def genera_accion():\n",
    "    # Toma acción aprendida o genera una aleatoria para explorar con probabilidad epsilon\n"
   ]
  },
  {
   "cell_type": "code",
   "execution_count": null,
   "metadata": {},
   "outputs": [],
   "source": [
    "No_episodios = 100000\n",
    "\n",
    "for episodio in range(0, No_episodios):\n",
    "    # Reinicia el ambiente\n",
    "    estado = enviroment.reset()\n",
    "\n",
    "    # Inicializa las variables\n",
    "    recompensa = \n",
    "    termina = \n",
    "    \n",
    "    while not termina:\n",
    "        # Decide acción a tomar\n",
    "\n",
    "        # Implementa la acción    \n",
    "\n",
    "        \n",
    "        # Actualiza valor q\n",
    "        \n",
    "        # Actualiza tabla de valores q\n",
    "\n",
    "        # Imprime progreso\n",
    "    if (episodio + 1) % 100 == 0:\n",
    "        clear_output(wait=True)\n",
    "        print(\"Episodio: {}\".format(episodio + 1))\n",
    "        enviroment.render()\n",
    "\n",
    "print(\"**********************************\")\n",
    "print(\"Entrenamiento finalizado!\\n\")\n",
    "print(\"**********************************\")"
   ]
  },
  {
   "cell_type": "code",
   "execution_count": null,
   "metadata": {},
   "outputs": [],
   "source": [
    "total_epochs = 0\n",
    "total_penalidades = 0\n",
    "No_episodios = 100\n",
    "for _ in range(No_episodios):\n",
    "    estado = enviroment.reset()\n",
    "    epochs = 0\n",
    "    penalidades = 0\n",
    "    recompensa = 0\n",
    "    \n",
    "    termina = False\n",
    "    \n",
    "    while not termina:\n",
    "        accion = np.argmax(tabla_q[estado])\n",
    "        estado, recompensa, termina, info = enviroment.step(accion)\n",
    "\n",
    "        if recompensa == -10:\n",
    "            penalidades += 1\n",
    "\n",
    "        epochs += 1\n",
    "\n",
    "    total_penalidades += penalidades\n",
    "    total_epochs += epochs\n",
    "\n",
    "print(\"**********************************\")\n",
    "print(\"Resultados\")\n",
    "print(\"**********************************\")\n",
    "print(\"Epochs por episodio: {}\".format(total_epochs / No_episodios))\n",
    "print(\"Penalidades por episodio: {}\".format(total_penalidades / No_episodios))"
   ]
  }
 ],
 "metadata": {
  "kernelspec": {
   "display_name": "Python 3",
   "language": "python",
   "name": "python3"
  },
  "language_info": {
   "codemirror_mode": {
    "name": "ipython",
    "version": 3
   },
   "file_extension": ".py",
   "mimetype": "text/x-python",
   "name": "python",
   "nbconvert_exporter": "python",
   "pygments_lexer": "ipython3",
   "version": "3.6.8"
  }
 },
 "nbformat": 4,
 "nbformat_minor": 2
}
